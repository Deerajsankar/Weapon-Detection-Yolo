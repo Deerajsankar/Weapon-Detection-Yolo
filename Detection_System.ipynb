{
 "cells": [
  {
   "cell_type": "code",
   "execution_count": 2,
   "id": "0a8c93e2",
   "metadata": {},
   "outputs": [],
   "source": [
    "from ultralytics import YOLO\n"
   ]
  },
  {
   "cell_type": "code",
   "execution_count": 3,
   "id": "0055e64f",
   "metadata": {},
   "outputs": [],
   "source": [
    "# Load the model from local path\n",
    "model = YOLO(\"best.pt\")  # Ensure the file is in the same directory as your notebook"
   ]
  },
  {
   "cell_type": "code",
   "execution_count": 7,
   "id": "b8648574",
   "metadata": {},
   "outputs": [
    {
     "name": "stdout",
     "output_type": "stream",
     "text": [
      "\n",
      "image 1/1 D:\\Gun.jpg: 800x928 1 Gun, 3103.1ms\n",
      "Speed: 334.7ms preprocess, 3103.1ms inference, 172.4ms postprocess per image at shape (1, 3, 800, 928)\n",
      "Results saved to \u001b[1mruns\\detect\\predict\u001b[0m\n"
     ]
    }
   ],
   "source": [
    "results = model(\"D:\\Gun.jpg\", save=True, show=True)\n"
   ]
  },
  {
   "cell_type": "code",
   "execution_count": 8,
   "id": "e5d15187",
   "metadata": {},
   "outputs": [
    {
     "name": "stdout",
     "output_type": "stream",
     "text": [
      "\n",
      "image 1/1 D:\\Explosive.jpg: 544x928 1 Explosive_Objects, 515.9ms\n",
      "Speed: 15.6ms preprocess, 515.9ms inference, 3.5ms postprocess per image at shape (1, 3, 544, 928)\n",
      "Results saved to \u001b[1mruns\\detect\\predict\u001b[0m\n"
     ]
    }
   ],
   "source": [
    "results = model(\"D:\\Explosive.jpg\", save=True, show=True)\n"
   ]
  },
  {
   "cell_type": "code",
   "execution_count": 10,
   "id": "14d79660",
   "metadata": {},
   "outputs": [
    {
     "name": "stdout",
     "output_type": "stream",
     "text": [
      "\n",
      "image 1/1 D:\\Knife.jpg: 736x928 1 knife, 543.1ms\n",
      "Speed: 33.4ms preprocess, 543.1ms inference, 1.8ms postprocess per image at shape (1, 3, 736, 928)\n",
      "Results saved to \u001b[1mruns\\detect\\predict\u001b[0m\n"
     ]
    }
   ],
   "source": [
    "results = model(\"D:\\Knife.jpg\", save=True, show=True)\n"
   ]
  },
  {
   "cell_type": "code",
   "execution_count": 11,
   "id": "bdc8c9a1",
   "metadata": {},
   "outputs": [
    {
     "name": "stdout",
     "output_type": "stream",
     "text": [
      "Requirement already satisfied: pygame in d:\\pythondatscience\\lib\\site-packages (2.6.1)\n"
     ]
    }
   ],
   "source": [
    "!pip install pygame\n"
   ]
  },
  {
   "cell_type": "code",
   "execution_count": 12,
   "id": "d97844f0",
   "metadata": {},
   "outputs": [
    {
     "name": "stdout",
     "output_type": "stream",
     "text": [
      "pygame 2.6.1 (SDL 2.28.4, Python 3.11.5)\n",
      "Hello from the pygame community. https://www.pygame.org/contribute.html\n"
     ]
    }
   ],
   "source": [
    "import cv2\n",
    "import torch\n",
    "import threading\n",
    "import os\n",
    "import pygame \n",
    "from ultralytics import YOLO\n",
    "from playsound import playsound"
   ]
  },
  {
   "cell_type": "code",
   "execution_count": 13,
   "id": "2f2e77d0",
   "metadata": {},
   "outputs": [],
   "source": [
    "# Define alarm sound paths\n",
    "ALARM_SOUNDS = {\n",
    "    \"Gun\": \"D:/Gun_Alarm.mp3\",\n",
    "    \"Knife\": \"D:/Knife_Alarm.mp3\",\n",
    "    \"Explosive_Object\": \"D:/Explosive_Alarm.mp3\"  # Ensure the label exactly matches your model's output\n",
    "}\n",
    "\n",
    "def play_alarm(label):\n",
    "    \"\"\"Play the alarm sound in a separate thread to avoid blocking execution.\"\"\"\n",
    "    if label in ALARM_SOUNDS:\n",
    "        threading.Thread(target=playsound, args=(ALARM_SOUNDS[label],), daemon=True).start()\n",
    "\n",
    "def start_webcam():\n",
    "    \"\"\"Open webcam, detect objects using YOLO v11, and trigger alarms.\"\"\"\n",
    "    cap = cv2.VideoCapture(0)  # Open webcam\n",
    "\n",
    "    while cap.isOpened():\n",
    "        ret, frame = cap.read()\n",
    "        if not ret:\n",
    "            print(\"Failed to grab frame, exiting...\")\n",
    "            break\n",
    "        \n",
    "        # Run YOLO v11 Object Detection\n",
    "        results = model(frame)\n",
    "\n",
    "        detected_objects = []  # Store detected objects to avoid overwriting\n",
    "\n",
    "        # Process detections\n",
    "        for result in results:\n",
    "            for box in result.boxes:\n",
    "                cls = int(box.cls[0])  # Class index\n",
    "                conf = float(box.conf[0])  # Confidence score\n",
    "                x1, y1, x2, y2 = map(int, box.xyxy[0])  # Bounding box\n",
    "                \n",
    "                if conf > 0.5:\n",
    "                    label = model.names[cls]  # Get class label\n",
    "                    \n",
    "                    # Append detected object for verification\n",
    "                    detected_objects.append((label, conf, (x1, y1, x2, y2)))\n",
    "        \n",
    "        # Ensure correct alarms and labels are used\n",
    "        for label, conf, (x1, y1, x2, y2) in detected_objects:\n",
    "            # Assign colors: Red for High Alert, Blue for Mid Alert\n",
    "            color = (255, 255, 0)  # Blue (Default)\n",
    "            if label in ALARM_SOUNDS:\n",
    "                color = (0, 0, 255)  # Red for High Alert\n",
    "                print(f\"⚠️ Alert: {label} detected! Confidence: {conf:.2f}\")\n",
    "                play_alarm(label)  # Play the correct alarm sound\n",
    "\n",
    "            # Draw bounding box with correct label\n",
    "            cv2.rectangle(frame, (x1, y1), (x2, y2), color, 2)\n",
    "            cv2.putText(frame, f\"{label} {conf:.2f}\", (x1, y1 - 10), \n",
    "                        cv2.FONT_HERSHEY_SIMPLEX, 0.6, color, 2)\n",
    "\n",
    "        # Display frame with detections\n",
    "        cv2.imshow(\"YOLOv11 Object Detection\", frame)\n",
    "\n",
    "        # Press 'q' to exit\n",
    "        if cv2.waitKey(1) & 0xFF == ord(\"q\"):\n",
    "            print(\"Webcam stopped by user.\")\n",
    "            break\n",
    "\n",
    "    cap.release()\n",
    "    cv2.destroyAllWindows()"
   ]
  },
  {
   "cell_type": "code",
   "execution_count": null,
   "id": "3902631d",
   "metadata": {},
   "outputs": [],
   "source": [
    "start_webcam()"
   ]
  },
  {
   "cell_type": "code",
   "execution_count": 14,
   "id": "d508e3d7",
   "metadata": {},
   "outputs": [],
   "source": [
    "pygame.mixer.init()"
   ]
  },
  {
   "cell_type": "code",
   "execution_count": 18,
   "id": "cd2ab657",
   "metadata": {},
   "outputs": [
    {
     "name": "stdout",
     "output_type": "stream",
     "text": [
      "\n",
      "0: 736x928 1 knife, 424.0ms\n",
      "Speed: 23.1ms preprocess, 424.0ms inference, 14.9ms postprocess per image at shape (1, 3, 736, 928)\n",
      "⚠️ Alert: knife detected! Confidence: 0.79\n",
      "🔊 Calling play_alarm('knife')\n",
      "🚨 Playing alarm for knife...\n",
      "✅ Objects detected: knife\n"
     ]
    }
   ],
   "source": [
    "\n",
    "# Correct file paths with raw strings\n",
    "ALARM_SOUNDS = {\n",
    "    \"explosive_objects\": r\"D:\\Explosive_Alarm.mp3\",\n",
    "    \"gun\": r\"D:\\Gun_Alarm.mp3\",\n",
    "    \"knife\": r\"D:\\Knife_Alarm.mp3\"\n",
    "}\n",
    "\n",
    "def play_alarm(label):\n",
    "    \"\"\"Play alarm sound based on detected object.\"\"\"\n",
    "    label = label.lower()  # Ensure case consistency\n",
    "    if label in ALARM_SOUNDS and os.path.exists(ALARM_SOUNDS[label]):\n",
    "        print(f\"🚨 Playing alarm for {label}...\")\n",
    "        pygame.mixer.music.load(ALARM_SOUNDS[label])  # Load sound\n",
    "        pygame.mixer.music.play()  # Play sound\n",
    "        while pygame.mixer.music.get_busy():  # Wait until sound finishes playing\n",
    "            continue\n",
    "    else:\n",
    "        print(f\"⚠️ Alarm sound for {label} not found or file missing!\")\n",
    "\n",
    "def detect_objects(image_path):\n",
    "    \"\"\"Detect objects in the image and trigger alarms.\"\"\"\n",
    "    if not os.path.exists(image_path):\n",
    "        print(\"❌ Error: Image file not found! Check the path.\")\n",
    "        return\n",
    "\n",
    "    # Read image\n",
    "    img = cv2.imread(image_path)\n",
    "\n",
    "    # Run YOLO detection\n",
    "    results = model(img)\n",
    "\n",
    "    detected_labels = []  # Track detected objects\n",
    "\n",
    "    for result in results:\n",
    "        for box in result.boxes:\n",
    "            cls = int(box.cls[0])  # Class index\n",
    "            conf = float(box.conf[0])  # Confidence score\n",
    "            x1, y1, x2, y2 = map(int, box.xyxy[0])  # Bounding box\n",
    "\n",
    "            if conf > 0.5:\n",
    "                label = model.names[cls].lower()  # Normalize label to lowercase\n",
    "                detected_labels.append(label)  # Store detected label\n",
    "                color = (0, 255, 0)  # Default: green (mid-alert)\n",
    "\n",
    "                if label in ALARM_SOUNDS:\n",
    "                    color = (0, 0, 255)  # Red for high-alert\n",
    "                    print(f\"⚠️ Alert: {label} detected! Confidence: {conf:.2f}\")\n",
    "                    print(f\"🔊 Calling play_alarm('{label}')\")\n",
    "\n",
    "                    # Play alarm\n",
    "                    play_alarm(label)\n",
    "\n",
    "                # Draw bounding box\n",
    "                cv2.rectangle(img, (x1, y1), (x2, y2), color, 2)\n",
    "                cv2.putText(img, f\"{label} {conf:.2f}\", (x1, y1 - 10), \n",
    "                            cv2.FONT_HERSHEY_SIMPLEX, 0.6, color, 2)\n",
    "\n",
    "    # Show image\n",
    "    cv2.imshow(\"YOLO Object Detection\", img)\n",
    "    cv2.waitKey(1)\n",
    "    cv2.destroyAllWindows()\n",
    "\n",
    "    # Final debugging message\n",
    "    if detected_labels:\n",
    "        print(f\"✅ Objects detected: {', '.join(detected_labels)}\")\n",
    "    else:\n",
    "        print(\"❌ No objects detected above confidence threshold.\")\n",
    "\n",
    "# Run detection (Replace with your image path)\n",
    "image_path = r\"D:\\Knife.jpg\"\n",
    "detect_objects(image_path)\n"
   ]
  },
  {
   "cell_type": "code",
   "execution_count": 19,
   "id": "7f37db63",
   "metadata": {},
   "outputs": [
    {
     "name": "stdout",
     "output_type": "stream",
     "text": [
      "\n",
      "0: 544x928 1 Explosive_Objects, 426.2ms\n",
      "Speed: 13.7ms preprocess, 426.2ms inference, 18.7ms postprocess per image at shape (1, 3, 544, 928)\n",
      "⚠️ Alert: explosive_objects detected! Confidence: 0.92\n",
      "🔊 Calling play_alarm('explosive_objects')\n",
      "🚨 Playing alarm for explosive_objects...\n",
      "✅ Objects detected: explosive_objects\n"
     ]
    }
   ],
   "source": [
    "image_path = r\"D:\\Explosive.jpg\"\n",
    "detect_objects(image_path)\n"
   ]
  },
  {
   "cell_type": "code",
   "execution_count": 20,
   "id": "ee483819",
   "metadata": {},
   "outputs": [
    {
     "name": "stdout",
     "output_type": "stream",
     "text": [
      "\n",
      "0: 800x928 1 Gun, 416.6ms\n",
      "Speed: 25.1ms preprocess, 416.6ms inference, 1.6ms postprocess per image at shape (1, 3, 800, 928)\n",
      "⚠️ Alert: gun detected! Confidence: 0.91\n",
      "🔊 Calling play_alarm('gun')\n",
      "🚨 Playing alarm for gun...\n",
      "✅ Objects detected: gun\n"
     ]
    }
   ],
   "source": [
    "image_path = r\"D:\\Gun.jpg\"\n",
    "detect_objects(image_path)\n"
   ]
  },
  {
   "cell_type": "code",
   "execution_count": null,
   "id": "d8ee3fb6",
   "metadata": {},
   "outputs": [],
   "source": []
  }
 ],
 "metadata": {
  "kernelspec": {
   "display_name": "Python 3 (ipykernel)",
   "language": "python",
   "name": "python3"
  },
  "language_info": {
   "codemirror_mode": {
    "name": "ipython",
    "version": 3
   },
   "file_extension": ".py",
   "mimetype": "text/x-python",
   "name": "python",
   "nbconvert_exporter": "python",
   "pygments_lexer": "ipython3",
   "version": "3.11.5"
  }
 },
 "nbformat": 4,
 "nbformat_minor": 5
}
